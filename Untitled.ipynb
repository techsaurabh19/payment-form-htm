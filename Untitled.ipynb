{
 "cells": [
  {
   "cell_type": "code",
   "execution_count": 4,
   "id": "4b4e358d",
   "metadata": {},
   "outputs": [
    {
     "name": "stdout",
     "output_type": "stream",
     "text": [
      "Note: you may need to restart the kernel to use updated packages.\n"
     ]
    },
    {
     "name": "stderr",
     "output_type": "stream",
     "text": [
      "ERROR: Could not find a version that satisfies the requirement opencv (from versions: none)\n",
      "ERROR: No matching distribution found for opencv\n",
      "WARNING: You are using pip version 21.2.4; however, version 22.0.3 is available.\n",
      "You should consider upgrading via the 'C:\\Users\\Saurabh_mathuria\\AppData\\Local\\Programs\\Python\\Python310\\python.exe -m pip install --upgrade pip' command.\n"
     ]
    }
   ],
   "source": [
    "pip install opencv"
   ]
  },
  {
   "cell_type": "code",
   "execution_count": 5,
   "id": "d36d0e94",
   "metadata": {},
   "outputs": [
    {
     "ename": "AttributeError",
     "evalue": "module 'handy' has no attribute 'capture_histogram'",
     "output_type": "error",
     "traceback": [
      "\u001b[1;31m---------------------------------------------------------------------------\u001b[0m",
      "\u001b[1;31mAttributeError\u001b[0m                            Traceback (most recent call last)",
      "Input \u001b[1;32mIn [5]\u001b[0m, in \u001b[0;36m<module>\u001b[1;34m\u001b[0m\n\u001b[0;32m      5\u001b[0m cap \u001b[38;5;241m=\u001b[39m cv2\u001b[38;5;241m.\u001b[39mVideoCapture(\u001b[38;5;241m0\u001b[39m)\n\u001b[0;32m      7\u001b[0m \u001b[38;5;66;03m# capture the hand histogram by placing your hand in the box shown and\u001b[39;00m\n\u001b[0;32m      8\u001b[0m \u001b[38;5;66;03m# press 'A' to confirm\u001b[39;00m\n\u001b[0;32m      9\u001b[0m \u001b[38;5;66;03m# source is set to inbuilt webcam by default. Pass source=1 to use an\u001b[39;00m\n\u001b[0;32m     10\u001b[0m \u001b[38;5;66;03m# external camera.\u001b[39;00m\n\u001b[1;32m---> 11\u001b[0m hist \u001b[38;5;241m=\u001b[39m \u001b[43mhandy\u001b[49m\u001b[38;5;241;43m.\u001b[39;49m\u001b[43mcapture_histogram\u001b[49m(source\u001b[38;5;241m=\u001b[39m\u001b[38;5;241m0\u001b[39m)\n\u001b[0;32m     13\u001b[0m \u001b[38;5;28;01mwhile\u001b[39;00m \u001b[38;5;28;01mTrue\u001b[39;00m:\n\u001b[0;32m     14\u001b[0m     ret, frame \u001b[38;5;241m=\u001b[39m cap\u001b[38;5;241m.\u001b[39mread()\n",
      "\u001b[1;31mAttributeError\u001b[0m: module 'handy' has no attribute 'capture_histogram'"
     ]
    }
   ],
   "source": [
    "\n",
    "import handy\n",
    "import cv2\n",
    "\n",
    "# getting video feed from webcam\n",
    "cap = cv2.VideoCapture(0)\n",
    "\n",
    "# capture the hand histogram by placing your hand in the box shown and\n",
    "# press 'A' to confirm\n",
    "# source is set to inbuilt webcam by default. Pass source=1 to use an\n",
    "# external camera.\n",
    "hist = handy.capture_histogram(source=0)\n",
    "\n",
    "while True:\n",
    "    ret, frame = cap.read()\n",
    "    if not ret:\n",
    "        break\n",
    "\n",
    "    # to block a faces in the video stream, set block=True.\n",
    "    # if you just want to detect the faces, set block=False\n",
    "    # if you do not want to do anything with faces, remove this line\n",
    "    handy.detect_face(frame, block=True)\n",
    "\n",
    "    # detect the hand\n",
    "    hand = handy.detect_hand(frame, hist)\n",
    "\n",
    "    # to get the outline of the hand\n",
    "    # min area of the hand to be detected = 10000 by default\n",
    "    custom_outline = hand.draw_outline(\n",
    "        min_area=10000, color=(0, 255, 255), thickness=2)\n",
    "\n",
    "    # to get a quick outline of the hand\n",
    "    quick_outline = hand.outline\n",
    "\n",
    "    # draw fingertips on the outline of the hand, with radius 5 and color red,\n",
    "    # filled in.\n",
    "    for fingertip in hand.fingertips:\n",
    "        cv2.circle(quick_outline, fingertip, 5, (0, 0, 255), -1)\n",
    "\n",
    "    # to get the centre of mass of the hand\n",
    "    com = hand.get_center_of_mass()\n",
    "    if com:\n",
    "        cv2.circle(quick_outline, com, 10, (255, 0, 0), -1)\n",
    "\n",
    "    cv2.imshow(\"Handy\", quick_outline)\n",
    "\n",
    "    # display the unprocessed, segmented hand\n",
    "    # cv2.imshow(\"Handy\", hand.masked)\n",
    "\n",
    "    # display the binary version of the hand\n",
    "    # cv2.imshow(\"Handy\", hand.binary)\n",
    "\n",
    "    k = cv2.waitKey(5)\n",
    "\n",
    "    # Press 'q' to exit\n",
    "    if k == ord('q'):\n",
    "        break\n",
    "\n",
    "cap.release()\n",
    "cv2.destroyAllWindows()"
   ]
  },
  {
   "cell_type": "code",
   "execution_count": 3,
   "id": "e1c472de",
   "metadata": {},
   "outputs": [
    {
     "name": "stdout",
     "output_type": "stream",
     "text": [
      "Note: you may need to restart the kernel to use updated packages.\n"
     ]
    },
    {
     "name": "stderr",
     "output_type": "stream",
     "text": [
      "WARNING: You are using pip version 21.2.4; however, version 22.0.3 is available."
     ]
    },
    {
     "name": "stdout",
     "output_type": "stream",
     "text": [
      "Requirement already satisfied: PILLOW in c:\\users\\saurabh_mathuria\\appdata\\local\\programs\\python\\python310\\lib\\site-packages (9.0.0)\n"
     ]
    },
    {
     "name": "stderr",
     "output_type": "stream",
     "text": [
      "\n",
      "You should consider upgrading via the 'C:\\Users\\Saurabh_mathuria\\AppData\\Local\\Programs\\Python\\Python310\\python.exe -m pip install --upgrade pip' command.\n"
     ]
    }
   ],
   "source": [
    "pip install PILLOW\n"
   ]
  },
  {
   "cell_type": "code",
   "execution_count": 9,
   "id": "ba1e5330",
   "metadata": {},
   "outputs": [],
   "source": [
    "import qrcode as qr\n",
    "img=qr.make(\"https://www.jetbrains.com/help/pycharm/package-installation-issues.html#cases\")\n",
    "img.save(\"saloni.png\")"
   ]
  },
  {
   "cell_type": "code",
   "execution_count": 11,
   "id": "715e878d",
   "metadata": {},
   "outputs": [],
   "source": [
    "import qrcode\n",
    "from PIL import Image\n",
    "\n",
    "\n",
    "qr=qrcode.QRCode(version=1,error_correction=qrcode.constants.ERROR_CORRECT_H,\n",
    "                box_size=10,border=1.0,)\n",
    "\n",
    "qr.add_data(\"https://github.com/techsaurabh19/Resume/blob/main/saurabhds.docx\")\n",
    "qr.make(fit=True)\n",
    "img=qr.make_image(fill_color=\"Blue\",back_color=\"cyan\")\n",
    "img.save(\"Resume.png\")"
   ]
  },
  {
   "cell_type": "code",
   "execution_count": 4,
   "id": "dc63dac5",
   "metadata": {},
   "outputs": [
    {
     "name": "stdout",
     "output_type": "stream",
     "text": [
      "Enter Your No with +__: +9179365841\n",
      "Country Code: 91 National Number: 79365841\n",
      "('Etc/Unknown',)\n",
      "\n",
      "\n"
     ]
    }
   ],
   "source": [
    "import phonenumbers\n",
    "from phonenumbers import timezone,geocoder,carrier\n",
    "number=input(\"Enter Your No with +__: \")\n",
    "phone=phonenumbers.parse(number)\n",
    "time=timezone.time_zones_for_number(phone)\n",
    "car=carrier.name_for_number(phone,\"en\")\n",
    "reg=geocoder.description_for_number(phone,\"en\")\n",
    "print(phone)\n",
    "print(time)\n",
    "print(car)\n",
    "print(reg)\n"
   ]
  },
  {
   "cell_type": "code",
   "execution_count": 3,
   "id": "b72984fb",
   "metadata": {},
   "outputs": [
    {
     "name": "stdout",
     "output_type": "stream",
     "text": [
      "Note: you may need to restart the kernel to use updated packages.\n"
     ]
    },
    {
     "name": "stderr",
     "output_type": "stream",
     "text": [
      "ERROR: Could not find a version that satisfies the requirement smtp (from versions: none)\n",
      "ERROR: No matching distribution found for smtp\n",
      "WARNING: You are using pip version 21.2.4; however, version 22.0.3 is available.\n",
      "You should consider upgrading via the 'C:\\Users\\Saurabh_mathuria\\AppData\\Local\\Programs\\Python\\Python310\\python.exe -m pip install --upgrade pip' command.\n"
     ]
    }
   ],
   "source": [
    "import smtplib"
   ]
  },
  {
   "cell_type": "code",
   "execution_count": 6,
   "id": "6d99e877",
   "metadata": {},
   "outputs": [
    {
     "name": "stdout",
     "output_type": "stream",
     "text": [
      "Note: you may need to restart the kernel to use updated packages.\n"
     ]
    },
    {
     "name": "stderr",
     "output_type": "stream",
     "text": [
      "ERROR: Could not find a version that satisfies the requirement tkinter (from versions: none)\n",
      "ERROR: No matching distribution found for tkinter\n",
      "WARNING: You are using pip version 21.2.4; however, version 22.0.3 is available.\n",
      "You should consider upgrading via the 'C:\\Users\\Saurabh_mathuria\\AppData\\Local\\Programs\\Python\\Python310\\python.exe -m pip install --upgrade pip' command.\n"
     ]
    }
   ],
   "source": [
    "pip install tkinter"
   ]
  },
  {
   "cell_type": "code",
   "execution_count": null,
   "id": "d70fcf8d",
   "metadata": {},
   "outputs": [],
   "source": []
  }
 ],
 "metadata": {
  "kernelspec": {
   "display_name": "Python 3 (ipykernel)",
   "language": "python",
   "name": "python3"
  },
  "language_info": {
   "codemirror_mode": {
    "name": "ipython",
    "version": 3
   },
   "file_extension": ".py",
   "mimetype": "text/x-python",
   "name": "python",
   "nbconvert_exporter": "python",
   "pygments_lexer": "ipython3",
   "version": "3.10.2"
  }
 },
 "nbformat": 4,
 "nbformat_minor": 5
}
